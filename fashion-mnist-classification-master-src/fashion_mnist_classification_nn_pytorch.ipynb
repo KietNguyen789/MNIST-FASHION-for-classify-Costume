{
 "cells": [
  {
   "cell_type": "markdown",
   "metadata": {},
   "source": [
    "# Fashion-MNIST Classification using Neural Network\n",
    "\n",
    "In this notebook, we'll build a neural network to classify Fashion-MNIST images"
   ]
  },
  {
   "cell_type": "code",
   "execution_count": 49,
   "metadata": {},
   "outputs": [],
   "source": [
    "import numpy as np\n",
    "import torch\n",
    "import torch.nn as nn\n",
    "import torch.optim as optim\n",
    "from torchvision import datasets, transforms\n",
    "import matplotlib.pyplot as plt\n",
    "from collections import OrderedDict\n",
    "\n",
    "# Download training and testing data\n",
    "transform = transforms.Compose([transforms.ToTensor(),\n",
    "                                transforms.Normalize((0.5,), (0.5,))])\n",
    "train_ds = datasets.FashionMNIST('F_MNIST_data', download=True, train=True, transform=transform)\n",
    "test_ds = datasets.FashionMNIST('F_MNIST_data', download=True, train=False, transform=transform)"
   ]
  },
  {
   "cell_type": "code",
   "execution_count": 50,
   "metadata": {},
   "outputs": [
    {
     "data": {
      "text/plain": [
       "(12000, 48000)"
      ]
     },
     "execution_count": 50,
     "metadata": {},
     "output_type": "execute_result"
    }
   ],
   "source": [
    "# split train set into training (80%) and validation set (20%)\n",
    "train_num = len(train_ds)\n",
    "indices = list(range(train_num))\n",
    "np.random.shuffle(indices)\n",
    "split = int(np.floor(0.2 * train_num))\n",
    "val_idx, train_idx = indices[:split], indices[split:]\n",
    "len(val_idx), len(train_idx)"
   ]
  },
  {
   "cell_type": "code",
   "execution_count": 51,
   "metadata": {},
   "outputs": [],
   "source": [
    "# prepare dataloaders\n",
    "train_sampler = torch.utils.data.sampler.SubsetRandomSampler(train_idx)\n",
    "train_dl = torch.utils.data.DataLoader(train_ds, batch_size=64, sampler=train_sampler)\n",
    "val_sampler = torch.utils.data.sampler.SubsetRandomSampler(val_idx)\n",
    "val_dl = torch.utils.data.DataLoader(train_ds, batch_size=64, sampler=val_sampler)\n",
    "test_dl = torch.utils.data.DataLoader(test_ds, batch_size=64, shuffle=True)"
   ]
  },
  {
   "cell_type": "code",
   "execution_count": 52,
   "metadata": {},
   "outputs": [
    {
     "name": "stdout",
     "output_type": "stream",
     "text": [
      "torch.Size([1, 28, 28]) torch.Size([64])\n",
      "Sneaker\n"
     ]
    },
    {
     "data": {
      "image/png": "[encoded data removed]",
      "text/plain": [
       "<Figure size 640x480 with 1 Axes>"
      ]
     },
     "metadata": {
      "image/png": {
       "height": 413,
       "width": 417
      }
     },
     "output_type": "display_data"
    }
   ],
   "source": [
    "image, label = next(iter(train_dl))\n",
    "print(image[0].shape, label.shape)\n",
    "desc = ['T-shirt/top','Trouser','Pullover','Dress','Coat','Sandal','Shirt','Sneaker','Bag','Ankle Boot']\n",
    "print(desc[label[0].item()])\n",
    "plt.imshow(image[0].numpy().squeeze(), cmap='gray');"
   ]
  },
  {
   "cell_type": "markdown",
   "metadata": {},
   "source": [
    "## Build the network"
   ]
  },
  {
   "cell_type": "code",
   "execution_count": 53,
   "metadata": {},
   "outputs": [],
   "source": [
    "def network():\n",
    "    '''  model = nn.Sequential(OrderedDict([('fc1', nn.Linear(784, 128)),\n",
    "                                       ('relu1', nn.ReLU()),\n",
    "                                       ('drop1', nn.Dropout(0.25)),                                       \n",
    "                                       ('fc2', nn.Linear(128, 64)),\n",
    "                                       ('relu2', nn.ReLU()),\n",
    "                                       ('drop1', nn.Dropout(0.25)),                                       \n",
    "                                       ('output', nn.Linear(64, 10)),\n",
    "                                       ('logsoftmax', nn.LogSoftmax(dim=1))]))'''\n",
    "    model = nn.Sequential(OrderedDict([\n",
    "    ('fc1', nn.Linear(784, 50)),  # Lớp ẩn thứ nhất với 50 node\n",
    "    ('relu1', nn.ReLU()),\n",
    "    ('fc2', nn.Linear(50, 50)),  # Lớp ẩn thứ hai với 50 node\n",
    "    ('relu2', nn.ReLU()),\n",
    "    ('output', nn.Linear(50, 10)),  # Lớp đầu ra với 10 node (số lớp trong MNIST)\n",
    "    ('logsoftmax', nn.LogSoftmax(dim=1))\n",
    "]))\n",
    "    # Use GPU if available\n",
    "    device = 'cuda' if torch.cuda.is_available() else 'cpu'\n",
    "    model = model.to(device)\n",
    "\n",
    "    # define the criterion and optimizer\n",
    "    loss_fn = nn.NLLLoss()\n",
    "    optimizer = optim.Adam(model.parameters(), lr=0.003)\n",
    "\n",
    "    return model, loss_fn, optimizer, device                      "
   ]
  },
  {
   "cell_type": "code",
   "execution_count": 54,
   "metadata": {},
   "outputs": [
    {
     "name": "stdout",
     "output_type": "stream",
     "text": [
      "Sequential(\n",
      "  (fc1): Linear(in_features=784, out_features=50, bias=True)\n",
      "  (relu1): ReLU()\n",
      "  (fc2): Linear(in_features=50, out_features=50, bias=True)\n",
      "  (relu2): ReLU()\n",
      "  (output): Linear(in_features=50, out_features=10, bias=True)\n",
      "  (logsoftmax): LogSoftmax(dim=1)\n",
      ")\n"
     ]
    }
   ],
   "source": [
    "model, loss_fn, optimizer, device = network()\n",
    "print(model)"
   ]
  },
  {
   "cell_type": "markdown",
   "metadata": {},
   "source": [
    "## Train the network"
   ]
  },
  {
   "cell_type": "code",
   "execution_count": 55,
   "metadata": {},
   "outputs": [],
   "source": [
    "def train_validate(model, loss_fn, optimizer, trainloader, testloader, device, n_epochs=25):\n",
    "    train_losses = []\n",
    "    test_losses = []\n",
    "    for epoch in range(n_epochs):\n",
    "        # Set mode to training - Dropouts will be used here\n",
    "        model.train()\n",
    "        train_epoch_loss = 0\n",
    "        for images, labels in trainloader:\n",
    "            images, labels = images.to(device), labels.to(device)\n",
    "            # flatten the images to batch_size x 784\n",
    "            images = images.view(images.shape[0], -1)\n",
    "            # forward pass\n",
    "            outputs = model(images)\n",
    "            # backpropogation\n",
    "            train_batch_loss = loss_fn(outputs, labels)\n",
    "            optimizer.zero_grad()\n",
    "            train_batch_loss.backward()\n",
    "            # Weight updates\n",
    "            optimizer.step()\n",
    "            train_epoch_loss += train_batch_loss.item()\n",
    "        else:\n",
    "            # One epoch of training complete\n",
    "            # calculate average training epoch loss\n",
    "            train_epoch_loss = train_epoch_loss/len(trainloader)\n",
    "\n",
    "            # Now Validate on testset\n",
    "            with torch.no_grad():\n",
    "                test_epoch_acc = 0\n",
    "                test_epoch_loss = 0\n",
    "                # Set mode to eval - Dropouts will NOT be used here\n",
    "                model.eval()\n",
    "                for images, labels in testloader:\n",
    "                    images, labels = images.to(device), labels.to(device)                    \n",
    "                    # flatten images to batch_size x 784\n",
    "                    images = images.view(images.shape[0], -1)\n",
    "                    # make predictions \n",
    "                    test_outputs = model(images)\n",
    "                    # calculate test loss\n",
    "                    test_batch_loss = loss_fn(test_outputs, labels)\n",
    "                    test_epoch_loss += test_batch_loss\n",
    "                    \n",
    "                    # get probabilities, extract the class associated with highest probability\n",
    "                    proba = torch.exp(test_outputs)\n",
    "                    _, pred_labels = proba.topk(1, dim=1)\n",
    "                    \n",
    "                    # compare actual labels and predicted labels\n",
    "                    result = pred_labels == labels.view(pred_labels.shape)\n",
    "                    batch_acc = torch.mean(result.type(torch.FloatTensor))\n",
    "                    test_epoch_acc += batch_acc.item()\n",
    "                else:\n",
    "                    # One epoch of training and validation done\n",
    "                    # calculate average testing epoch loss\n",
    "                    test_epoch_loss = test_epoch_loss/len(testloader)\n",
    "                    # calculate accuracy as correct_pred/total_samples\n",
    "                    test_epoch_acc = test_epoch_acc/len(testloader)\n",
    "                    # save epoch losses for plotting\n",
    "                    train_losses.append(train_epoch_loss)\n",
    "                    test_losses.append(test_epoch_loss)\n",
    "                    # print stats for this epoch\n",
    "                    print(f'Epoch: {epoch} -> train_loss: {train_epoch_loss:.19f}, val_loss: {test_epoch_loss:.19f}, ',\n",
    "                          f'val_acc: {test_epoch_acc*100:.2f}%')\n",
    "    # Finally plot losses\n",
    "    plt.plot(train_losses, label='train-loss')\n",
    "    plt.plot(test_losses, label='val-loss')\n",
    "    plt.legend()\n",
    "    plt.show()"
   ]
  },
  {
   "cell_type": "code",
   "execution_count": 56,
   "metadata": {},
   "outputs": [
    {
     "name": "stdout",
     "output_type": "stream",
     "text": [
      "Epoch: 0 -> train_loss: 0.5281830354134241512, val_loss: 0.4368092417716979980,  val_acc: 83.84%\n",
      "Epoch: 1 -> train_loss: 0.4057333547075589464, val_loss: 0.4142583608627319336,  val_acc: 84.42%\n",
      "Epoch: 2 -> train_loss: 0.3697561988333861183, val_loss: 0.3927178084850311279,  val_acc: 85.68%\n",
      "Epoch: 3 -> train_loss: 0.3465510946015517013, val_loss: 0.3706568479537963867,  val_acc: 86.53%\n",
      "Epoch: 4 -> train_loss: 0.3316129634579022545, val_loss: 0.4427865743637084961,  val_acc: 84.00%\n",
      "Epoch: 5 -> train_loss: 0.3190119895935058514, val_loss: 0.3855772316455841064,  val_acc: 86.05%\n",
      "Epoch: 6 -> train_loss: 0.3077146229644616704, val_loss: 0.3499410152435302734,  val_acc: 87.68%\n",
      "Epoch: 7 -> train_loss: 0.3008365385433038330, val_loss: 0.3610591888427734375,  val_acc: 87.18%\n",
      "Epoch: 8 -> train_loss: 0.2886821035941442015, val_loss: 0.3713732361793518066,  val_acc: 87.36%\n",
      "Epoch: 9 -> train_loss: 0.2846089202662309137, val_loss: 0.3642447590827941895,  val_acc: 87.38%\n",
      "Epoch: 10 -> train_loss: 0.2781592165728409838, val_loss: 0.3581013679504394531,  val_acc: 87.53%\n",
      "Epoch: 11 -> train_loss: 0.2692731014738480311, val_loss: 0.3749723732471466064,  val_acc: 87.00%\n",
      "Epoch: 12 -> train_loss: 0.2636137705643971652, val_loss: 0.3692847192287445068,  val_acc: 87.74%\n",
      "Epoch: 13 -> train_loss: 0.2602844571272532326, val_loss: 0.3717024922370910645,  val_acc: 87.24%\n",
      "Epoch: 14 -> train_loss: 0.2560099837283293378, val_loss: 0.3787301778793334961,  val_acc: 87.49%\n",
      "Epoch: 15 -> train_loss: 0.2485522445986668161, val_loss: 0.3611986637115478516,  val_acc: 87.86%\n",
      "Epoch: 16 -> train_loss: 0.2432559489409128750, val_loss: 0.3698773086071014404,  val_acc: 88.20%\n",
      "Epoch: 17 -> train_loss: 0.2443582934737205392, val_loss: 0.3718267083168029785,  val_acc: 87.84%\n"
     ]
    }
   ],
   "source": [
    "# Train and validate\n",
    "train_validate(model, loss_fn, optimizer, train_dl, val_dl, device)"
   ]
  },
  {
   "cell_type": "markdown",
   "metadata": {},
   "source": [
    "### Predict a single image"
   ]
  },
  {
   "cell_type": "code",
   "execution_count": null,
   "metadata": {},
   "outputs": [
    {
     "data": {
      "image/png": "[encoded data removed]",
      "text/plain": [
       "<Figure size 1300x600 with 2 Axes>"
      ]
     },
     "metadata": {
      "image/png": {
       "height": 587,
       "width": 1246
      }
     },
     "output_type": "display_data"
    }
   ],
   "source": [
    "%matplotlib inline\n",
    "%config InlineBackend.figure_format = 'retina'\n",
    "\n",
    "# Test out the network!\n",
    "dataiter = iter(test_dl)\n",
    "images, labels = dataiter.__next__()\n",
    "images, labels = images.to(device), labels.to(device)\n",
    "index = 49\n",
    "img, label = images[index], labels[index]\n",
    "# Convert 2D image to 1D vector\n",
    "img = img.view(img.shape[0], -1)\n",
    "\n",
    "# Calculate the class probabilities (softmax) for img\n",
    "proba = torch.exp(model(img))\n",
    "\n",
    "# Plot the image and probabilities\n",
    "desc = ['T-shirt/top','Trouser','Pullover','Dress','Coat','Sandal','Shirt','Sneaker','Bag','Ankle Boot']\n",
    "fig, (ax1, ax2) =  plt.subplots(figsize=(13, 6), nrows=1, ncols=2)\n",
    "ax1.axis('off')\n",
    "ax1.imshow(images[index].cpu().numpy().squeeze(0))\n",
    "ax1.set_title(desc[label.item()])\n",
    "ax2.bar(range(10), proba.detach().cpu().numpy().squeeze(0))\n",
    "ax2.set_xticks(range(10))\n",
    "ax2.set_xticklabels(desc, size='small')\n",
    "ax2.set_title('Predicted Probabilities')\n",
    "plt.tight_layout()"
   ]
  },
  {
   "cell_type": "markdown",
   "metadata": {},
   "source": [
    "## Validate on test set"
   ]
  },
  {
   "cell_type": "code",
   "execution_count": null,
   "metadata": {},
   "outputs": [
    {
     "name": "stdout",
     "output_type": "stream",
     "text": [
      "Test Accuracy: 87.15%\n"
     ]
    }
   ],
   "source": [
    "# Validate\n",
    "with torch.no_grad():\n",
    "    batch_acc = []\n",
    "    model.eval()\n",
    "    for images, labels in test_dl:\n",
    "        images, labels = images.to(device), labels.to(device)\n",
    "        # flatten images to batch_size x 784\n",
    "        images = images.view(images.shape[0], -1)\n",
    "        # make predictions and get probabilities\n",
    "        proba = torch.exp(model(images))\n",
    "        # extract the class associted with highest probability\n",
    "        _, pred_labels = proba.topk(1, dim=1)\n",
    "        # compare actual labels and predicted labels\n",
    "        result = pred_labels == labels.view(pred_labels.shape)\n",
    "        acc = torch.mean(result.type(torch.FloatTensor))\n",
    "        batch_acc.append(acc.item())\n",
    "    else:\n",
    "        print(f'Test Accuracy: {torch.mean(torch.tensor(batch_acc))*100:.2f}%')"
   ]
  },
  {
   "cell_type": "markdown",
   "metadata": {},
   "source": [
    "## More powerful model"
   ]
  },
  {
   "cell_type": "code",
   "execution_count": null,
   "metadata": {},
   "outputs": [],
   "source": [
    "# Redefine network with dropout layers in between\n",
    "def network():\n",
    "    model = nn.Sequential(OrderedDict([('fc1', nn.Linear(784, 392)),\n",
    "                                       ('relu1', nn.ReLU()),\n",
    "                                       ('drop1', nn.Dropout(0.25)),\n",
    "                                       ('fc12', nn.Linear(392, 196)),\n",
    "                                       ('relu2', nn.ReLU()),\n",
    "                                       ('drop2', nn.Dropout(0.25)),\n",
    "                                       ('fc3', nn.Linear(196, 98)),\n",
    "                                       ('relu3', nn.ReLU()),\n",
    "                                       ('drop3', nn.Dropout(0.25)),                                       \n",
    "                                       ('fc4', nn.Linear(98, 49)),\n",
    "                                       ('relu4', nn.ReLU()),\n",
    "                                       ('output', nn.Linear(49, 10)),\n",
    "                                       ('logsoftmax', nn.LogSoftmax(dim=1))]))\n",
    "    \n",
    "    # Use GPU if available\n",
    "    device = 'cuda' if torch.cuda.is_available() else 'cpu'\n",
    "    model = model.to(device)\n",
    "\n",
    "    # define the criterion and optimizer\n",
    "    loss_fn = nn.NLLLoss()\n",
    "    optimizer = optim.Adam(model.parameters(), lr=0.0007)\n",
    "\n",
    "    return model, loss_fn, optimizer, device       "
   ]
  },
  {
   "cell_type": "code",
   "execution_count": null,
   "metadata": {},
   "outputs": [
    {
     "data": {
      "text/plain": [
       "Sequential(\n",
       "  (fc1): Linear(in_features=784, out_features=392, bias=True)\n",
       "  (relu1): ReLU()\n",
       "  (drop1): Dropout(p=0.25, inplace=False)\n",
       "  (fc12): Linear(in_features=392, out_features=196, bias=True)\n",
       "  (relu2): ReLU()\n",
       "  (drop2): Dropout(p=0.25, inplace=False)\n",
       "  (fc3): Linear(in_features=196, out_features=98, bias=True)\n",
       "  (relu3): ReLU()\n",
       "  (drop3): Dropout(p=0.25, inplace=False)\n",
       "  (fc4): Linear(in_features=98, out_features=49, bias=True)\n",
       "  (relu4): ReLU()\n",
       "  (output): Linear(in_features=49, out_features=10, bias=True)\n",
       "  (logsoftmax): LogSoftmax(dim=1)\n",
       ")"
      ]
     },
     "execution_count": 39,
     "metadata": {},
     "output_type": "execute_result"
    }
   ],
   "source": [
    "model, loss_fn, optimizer, device = network()\n",
    "model"
   ]
  },
  {
   "cell_type": "code",
   "execution_count": null,
   "metadata": {},
   "outputs": [],
   "source": [
    "# Train and validate again with new architecture\n",
    "#train_validate(model, loss_fn, optimizer, train_dl, val_dl, device, n_epochs=35)"
   ]
  },
  {
   "cell_type": "markdown",
   "metadata": {},
   "source": [
    "## Validate on test set"
   ]
  },
  {
   "cell_type": "code",
   "execution_count": null,
   "metadata": {},
   "outputs": [
    {
     "name": "stdout",
     "output_type": "stream",
     "text": [
      "Accuracy: 10.04%\n"
     ]
    }
   ],
   "source": [
    "# Validate\n",
    "with torch.no_grad():\n",
    "    model.eval()\n",
    "    batch_acc = []\n",
    "    for images, labels in test_dl:\n",
    "        images, labels = images.to(device), labels.to(device)\n",
    "        # flatten images to batch_size x 784\n",
    "        images = images.view(images.shape[0], -1)\n",
    "        # make predictions and get probabilities\n",
    "        proba = torch.exp(model(images))\n",
    "        # extract the class associted with highest probability\n",
    "        _, pred_labels = proba.topk(1, dim=1)\n",
    "        # compare actual labels and predicted labels\n",
    "        result = pred_labels == labels.view(pred_labels.shape)\n",
    "        acc = torch.mean(result.type(torch.FloatTensor))\n",
    "        batch_acc.append(acc.item())\n",
    "    else:\n",
    "        print(f'Accuracy: {torch.mean(torch.tensor(batch_acc))*100:.2f}%')"
   ]
  }
 ],
 "metadata": {
  "kernelspec": {
   "display_name": "Python 3",
   "language": "python",
   "name": "python3"
  },
  "language_info": {
   "codemirror_mode": {
    "name": "ipython",
    "version": 3
   },
   "file_extension": ".py",
   "mimetype": "text/x-python",
   "name": "python",
   "nbconvert_exporter": "python",
   "pygments_lexer": "ipython3",
   "version": "3.10.8"
  }
 },
 "nbformat": 4,
 "nbformat_minor": 4
}
